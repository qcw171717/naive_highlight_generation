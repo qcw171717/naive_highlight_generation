{
 "cells": [
  {
   "cell_type": "code",
   "execution_count": 1,
   "metadata": {},
   "outputs": [],
   "source": [
    "#Google: https://www.cbc.ca/news/technology/google-militarized-ai-1.4707697\n",
    "import pickle"
   ]
  },
  {
   "cell_type": "code",
   "execution_count": 2,
   "metadata": {},
   "outputs": [],
   "source": [
    "word_2_vec_dict = {}\n",
    "with open ('word_2_vec_dict.pkl', 'rb') as file:\n",
    "    word_2_vec_dict = pickle.load(file)"
   ]
  },
  {
   "cell_type": "code",
   "execution_count": 3,
   "metadata": {},
   "outputs": [],
   "source": [
    "from scipy import spatial"
   ]
  },
  {
   "cell_type": "code",
   "execution_count": 4,
   "metadata": {},
   "outputs": [
    {
     "name": "stdout",
     "output_type": "stream",
     "text": [
      "Is Google's new set of principles enough to calm fears over militarized A\n",
      "While the company's effort to draft ethical guidelines is a start, critics say more needs to be done\n",
      "Critics have been urging companies involved in the creation of artificial intelligence to develop a code of ethics before it's too late\n",
      "Now Google is complying, following backlash over its work with the U\n",
      "Pentagon developing a system to analyze military drone visuals\n",
      "But is this new set of principles enough to calm people's fears about the potential dangers of militarized A\n",
      "? Or is it just a public relations sleight of hand intended to assuage the critics?\n",
      "After all, without any independent oversight, there's little binding Google to its word\n",
      "The need for oversight is particularly pressing with regards to militarized A\n",
      ", or autonomous weapons systems\n",
      "combat drones, for example, that could eventually replace human-piloted fighter planes; robotic tanks that can operate on their own; and guns that are capable of firing themselves\n",
      "The argument in favour of this lethal breed of A\n",
      "is that human operators aren't put at risk — be it guns at border crossings, or planes or tanks on the front lines of conflict\n",
      "But the risk of accidental casualties when a machine is in charge of making life-or-death decisions has many concerned\n",
      "As does the potential for the technology to fall into the wrong hands, such as dictatorships or terrorists\n",
      "The United Nations last year discussed the possibility of instituting an international ban on \"killer robots\" following an open letter signed by more than 100 leaders from the artificial intelligence community\n",
      "hard to close once opened\n",
      "Google has been a major player in the development of A\n",
      "With its Pentagon research program, \"Project Maven,\" the company has been training A\n",
      "to classify objects in drone footage\n",
      "In other words, they have been teaching the drones to understand what they are looking at\n",
      "The project has been extremely controversial\n",
      "In fact, it was so contentious internally that when Google employees found out the specifics of what they were working on, a dozen employees reportedly resigned in protest, and thousands more filed an internal petition about the company's involvement in the project\n",
      "In response to that pushback, the company said it would not renew the Pentagon contract when it expires in March 2019\n",
      "(That said, if it's not Google, it will be someone else\n",
      "IBM, Amazon and Microsoft were all in the running for the Project Maven contact\n",
      "And according to tech publication Gizmodo, internal emails reveal Google's executives were enthusiastic about the project, seeing it as an opportunity that could lead to larger, lucrative Pentagon contracts\n",
      "Still, on the heels of the news that they will be stepping away from the military project, Google has launched a code of ethics with regards to its responsibilities in A\n",
      "In a blog post published last week, Google CEO Sundar Pichai lists what the company calls its \"objectives for A\n",
      "The first principle states that the A\n",
      "developed by the company should benefit society\n",
      "Others say artificial intelligence should avoid algorithmic bias, respect privacy and be tested for safety\n",
      "And the principles state that the A\n",
      "they develop should be accountable to the public and maintain scientific rigour\n",
      "But without any independent audits or oversights, critics argue this code of ethics is little more than a stunt to calm naysayers\n",
      "\"Announcing a set of ethical guidelines is one way a company can flag that they are taking this responsibility seriously\n",
      "But ultimately the proof is in how they act,\" says Karina Vold, an A\n",
      "researcher at Britain's Cambridge University\n",
      "She notes that while Google states it will not produce \"weapons or other technologies whose principal purpose or implementation is to cause or directly facilitate injury to people,\" plenty of seemingly harmless technologies could be used to do exactly that\n",
      "Visual recognition techniques, for example, like the ones being developed with Project Maven, can be taught to profile and target specific individuals, Vold said, and its human trainers can introduce their own biases\n",
      "In addition, nothing in the principles explicitly prevents the company from pursuing future military contracts\n",
      "And the document doesn't include any details about the process by which this code of ethics will be adhered, or any mention of oversight or independent review\n",
      "They can make grandiose pronouncements about how they will do no harm, but there's often no accountability\n",
      "Vold says that while big tech companies can self-regulate, it's widely seen to be in the best interest of a corporation to maximize profits for its shareholders\n",
      "When it comes to regulation and independent review, she says the case of Project Maven in particular is a tricky one\n",
      "\"It's not clear whom we can trust to provide external oversight when it's involvement with the government that prompts public outcry\n"
     ]
    }
   ],
   "source": [
    "sentences = []\n",
    "tokens = []\n",
    "with open ('test_random.txt') as file:\n",
    "    for line in file:\n",
    "        if line.strip() != '':\n",
    "            line.replace('!', '.')\n",
    "            line.replace('?', '.')\n",
    "            line.replace('...', '.')\n",
    "            sentences_lst = line.split('.')\n",
    "            for sentence in sentences_lst:\n",
    "                if sentence.strip() != '' and len(sentence.strip()) > 30:\n",
    "                    start_index = sentence.find(':') + 1\n",
    "                    if start_index != -1:\n",
    "                        sentences.append(sentence.strip()[start_index:])\n",
    "                        print(sentence[start_index:].strip())\n",
    "                        tokens.extend(sentence[start_index:].strip().split())\n",
    "                    else:\n",
    "                        sentences.append(sentence.strip())\n",
    "                        tokens.extend(sentence.strip().split())\n",
    "            "
   ]
  },
  {
   "cell_type": "code",
   "execution_count": 5,
   "metadata": {},
   "outputs": [],
   "source": [
    "clean_tokens = []\n",
    "for token in tokens:\n",
    "    if token.replace(',', '') != '' :\n",
    "        clean_tokens.append(token.replace(',', ''))\n",
    "        "
   ]
  },
  {
   "cell_type": "code",
   "execution_count": 6,
   "metadata": {},
   "outputs": [
    {
     "name": "stdout",
     "output_type": "stream",
     "text": [
      "45\n",
      "0.424648661915\n",
      "44\n",
      "0.361494505538\n",
      "43\n",
      "0.414693178789\n",
      "42\n",
      "0.408189354737\n",
      "41\n",
      "0.543475088758\n",
      "40\n",
      "0.415826104805\n",
      "39\n",
      "0.42378386508\n",
      "38\n",
      "0.335538597604\n",
      "37\n",
      "0.446592015057\n",
      "36\n",
      "0.488759240566\n",
      "35\n",
      "0.36966599707\n",
      "34\n",
      "0.445866863306\n",
      "33\n",
      "0.410094683548\n",
      "32\n",
      "0.455002366534\n",
      "31\n",
      "0.387684603852\n",
      "30\n",
      "0.417698277883\n",
      "29\n",
      "0.385434586701\n",
      "28\n",
      "0.410024209271\n",
      "27\n",
      "0.320329237892\n",
      "26\n",
      "0.578458688573\n",
      "25\n",
      "0.382919121837\n",
      "24\n",
      "0.409090362497\n",
      "23\n",
      "0.399278356031\n",
      "22\n",
      "0.431760403149\n",
      "21\n",
      "0.235249273868\n",
      "20\n",
      "0.439946606651\n",
      "19\n",
      "0.395701451378\n",
      "18\n",
      "0.392927306255\n",
      "17\n",
      "0.476847081386\n",
      "16\n",
      "0.382930765486\n",
      "15\n",
      "0.423482437156\n",
      "14\n",
      "0.449892535371\n",
      "13\n",
      "0.381240939623\n",
      "12\n",
      "0.453503156739\n",
      "11\n",
      "0.448656529465\n",
      "10\n",
      "0.388223922088\n",
      "9\n",
      "0.376788937627\n",
      "8\n",
      "0.501276562456\n",
      "7\n",
      "0.411353287545\n",
      "6\n",
      "0.39749483705\n",
      "5\n",
      "0.423285981453\n",
      "4\n",
      "0.378308149386\n",
      "3\n",
      "0.388805731531\n",
      "2\n",
      "0.42470825388\n",
      "1\n",
      "0.414470289705\n",
      "0\n",
      "0.407679202759\n"
     ]
    }
   ],
   "source": [
    "num_tokens = len(clean_tokens)\n",
    "sentence_av_cost = []\n",
    "count = 0\n",
    "for sentence in sentences:\n",
    "    cost_for_sentence = 0\n",
    "    word_lst = sentence.split()\n",
    "    num_words = 0\n",
    "    for word in word_lst:\n",
    "        cost_for_word = 0\n",
    "        #add average cos distance for word\n",
    "        for token in clean_tokens:\n",
    "            try:\n",
    "                cost_for_word += spatial.distance.cosine(word_2_vec_dict[word.lower()], word_2_vec_dict[token.lower()])\n",
    "            except KeyError:\n",
    "                pass\n",
    "        cost_for_word = cost_for_word / num_tokens\n",
    "        num_words += 1\n",
    "        cost_for_sentence += cost_for_word\n",
    "    count += 1\n",
    "    print(len(sentences) - count)\n",
    "    if num_words != 0:\n",
    "        sentence_av_cost.append(2 ** cost_for_sentence/num_words)\n",
    "        print(cost_for_sentence/num_words)"
   ]
  },
  {
   "cell_type": "code",
   "execution_count": 7,
   "metadata": {},
   "outputs": [],
   "source": [
    "with open ('test_random.pkl', 'wb') as file:\n",
    "    pickle.dump(sentence_av_cost, file)"
   ]
  },
  {
   "cell_type": "code",
   "execution_count": 8,
   "metadata": {},
   "outputs": [
    {
     "data": {
      "text/plain": [
       "24"
      ]
     },
     "execution_count": 8,
     "metadata": {},
     "output_type": "execute_result"
    }
   ],
   "source": [
    "minimum = min(sentence_av_cost)\n",
    "sentence_av_cost.index(minimum)"
   ]
  },
  {
   "cell_type": "code",
   "execution_count": 9,
   "metadata": {},
   "outputs": [
    {
     "data": {
      "text/plain": [
       "22"
      ]
     },
     "execution_count": 9,
     "metadata": {},
     "output_type": "execute_result"
    }
   ],
   "source": [
    "maximum = max(sentence_av_cost[1:])\n",
    "sentence_av_cost.index(maximum)"
   ]
  },
  {
   "cell_type": "code",
   "execution_count": 10,
   "metadata": {},
   "outputs": [],
   "source": [
    "import pickle\n",
    "sentence_av_cost = []\n",
    "with open ('test_random.pkl', 'rb') as file:\n",
    "    sentence_av_cost = pickle.load(file)"
   ]
  },
  {
   "cell_type": "code",
   "execution_count": 21,
   "metadata": {},
   "outputs": [],
   "source": [
    "however_long_lst = []\n",
    "for i in range(len(sentence_av_cost) - 9):\n",
    "    however_long_lst.append(sentence_av_cost[i:i+10])"
   ]
  },
  {
   "cell_type": "code",
   "execution_count": 22,
   "metadata": {},
   "outputs": [],
   "source": [
    "for i in range(len(however_long_lst)):\n",
    "    however_long_lst[i] = sum(however_long_lst[i])"
   ]
  },
  {
   "cell_type": "code",
   "execution_count": 23,
   "metadata": {},
   "outputs": [],
   "source": [
    "min_start = however_long_lst.index(min(however_long_lst))"
   ]
  },
  {
   "cell_type": "code",
   "execution_count": 24,
   "metadata": {},
   "outputs": [
    {
     "name": "stdout",
     "output_type": "stream",
     "text": [
      "Is Google's new set of principles enough to calm fears over militarized A\n",
      "While the company's effort to draft ethical guidelines is a start, critics say more needs to be done\n",
      "Critics have been urging companies involved in the creation of artificial intelligence to develop a code of ethics before it's too late\n",
      "Now Google is complying, following backlash over its work with the U\n",
      "Pentagon developing a system to analyze military drone visuals\n",
      "But is this new set of principles enough to calm people's fears about the potential dangers of militarized A\n",
      "? Or is it just a public relations sleight of hand intended to assuage the critics?\n",
      "After all, without any independent oversight, there's little binding Google to its word\n",
      "The need for oversight is particularly pressing with regards to militarized A\n",
      ", or autonomous weapons systems\n"
     ]
    }
   ],
   "source": [
    "for i in range(10):\n",
    "    print(sentences[min_start + i])"
   ]
  },
  {
   "cell_type": "code",
   "execution_count": 25,
   "metadata": {},
   "outputs": [],
   "source": [
    "import random\n",
    "from math import floor"
   ]
  },
  {
   "cell_type": "code",
   "execution_count": 26,
   "metadata": {},
   "outputs": [],
   "source": [
    "rand = floor(random.random() * 35)"
   ]
  },
  {
   "cell_type": "code",
   "execution_count": 27,
   "metadata": {},
   "outputs": [
    {
     "name": "stdout",
     "output_type": "stream",
     "text": [
      "to classify objects in drone footage\n",
      "In other words, they have been teaching the drones to understand what they are looking at\n",
      "The project has been extremely controversial\n",
      "In fact, it was so contentious internally that when Google employees found out the specifics of what they were working on, a dozen employees reportedly resigned in protest, and thousands more filed an internal petition about the company's involvement in the project\n",
      "In response to that pushback, the company said it would not renew the Pentagon contract when it expires in March 2019\n",
      "(That said, if it's not Google, it will be someone else\n",
      "IBM, Amazon and Microsoft were all in the running for the Project Maven contact\n",
      "And according to tech publication Gizmodo, internal emails reveal Google's executives were enthusiastic about the project, seeing it as an opportunity that could lead to larger, lucrative Pentagon contracts\n",
      "Still, on the heels of the news that they will be stepping away from the military project, Google has launched a code of ethics with regards to its responsibilities in A\n",
      "In a blog post published last week, Google CEO Sundar Pichai lists what the company calls its \"objectives for A\n"
     ]
    }
   ],
   "source": [
    "for i in range(10):\n",
    "    print(sentences[rand + i])"
   ]
  },
  {
   "cell_type": "code",
   "execution_count": 28,
   "metadata": {},
   "outputs": [],
   "source": [
    "rand = floor(random.random() * 35)"
   ]
  },
  {
   "cell_type": "code",
   "execution_count": 29,
   "metadata": {},
   "outputs": [
    {
     "name": "stdout",
     "output_type": "stream",
     "text": [
      "? Or is it just a public relations sleight of hand intended to assuage the critics?\n",
      "After all, without any independent oversight, there's little binding Google to its word\n",
      "The need for oversight is particularly pressing with regards to militarized A\n",
      ", or autonomous weapons systems\n",
      "combat drones, for example, that could eventually replace human-piloted fighter planes; robotic tanks that can operate on their own; and guns that are capable of firing themselves\n",
      "The argument in favour of this lethal breed of A\n",
      "is that human operators aren't put at risk — be it guns at border crossings, or planes or tanks on the front lines of conflict\n",
      "But the risk of accidental casualties when a machine is in charge of making life-or-death decisions has many concerned\n",
      "As does the potential for the technology to fall into the wrong hands, such as dictatorships or terrorists\n",
      "The United Nations last year discussed the possibility of instituting an international ban on \"killer robots\" following an open letter signed by more than 100 leaders from the artificial intelligence community\n"
     ]
    }
   ],
   "source": [
    "for i in range(10):\n",
    "    print(sentences[rand + i])"
   ]
  },
  {
   "cell_type": "code",
   "execution_count": 30,
   "metadata": {},
   "outputs": [
    {
     "name": "stdout",
     "output_type": "stream",
     "text": [
      "Is Google's new set of principles enough to calm fears over militarized A\n",
      "While the company's effort to draft ethical guidelines is a start, critics say more needs to be done\n",
      "Critics have been urging companies involved in the creation of artificial intelligence to develop a code of ethics before it's too late\n",
      "Now Google is complying, following backlash over its work with the U\n",
      "Pentagon developing a system to analyze military drone visuals\n",
      "But is this new set of principles enough to calm people's fears about the potential dangers of militarized A\n",
      "? Or is it just a public relations sleight of hand intended to assuage the critics?\n",
      "After all, without any independent oversight, there's little binding Google to its word\n",
      "The need for oversight is particularly pressing with regards to militarized A\n",
      ", or autonomous weapons systems\n"
     ]
    }
   ],
   "source": [
    "for i in range(10):\n",
    "    print(sentences[floor(min(sentence_av_cost)) + i])"
   ]
  },
  {
   "cell_type": "code",
   "execution_count": null,
   "metadata": {},
   "outputs": [],
   "source": []
  }
 ],
 "metadata": {
  "kernelspec": {
   "display_name": "Python 3",
   "language": "python",
   "name": "python3"
  },
  "language_info": {
   "codemirror_mode": {
    "name": "ipython",
    "version": 3
   },
   "file_extension": ".py",
   "mimetype": "text/x-python",
   "name": "python",
   "nbconvert_exporter": "python",
   "pygments_lexer": "ipython3",
   "version": "3.6.5"
  }
 },
 "nbformat": 4,
 "nbformat_minor": 2
}
